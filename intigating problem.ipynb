{
 "cells": [
  {
   "cell_type": "code",
   "execution_count": 5,
   "id": "3117a14c",
   "metadata": {},
   "outputs": [
    {
     "name": "stdout",
     "output_type": "stream",
     "text": [
      "12.01318359375\n",
      "0.10986328125\n"
     ]
    }
   ],
   "source": [
    "import numpy as np\n",
    "from math import fabs\n",
    "\n",
    "def f(x):\n",
    "    return 3*x*x +2*x\n",
    "\n",
    "def firdOrderInt(f,low,high,N):\n",
    "    h=(high-low)/N\n",
    "    s=f(low)+f(high)\n",
    "    for i in range(1,N):\n",
    "        xi=low+i*h\n",
    "        s=s+2*f(xi)\n",
    "    return (s*h)/2\n",
    "\n",
    "a,b=-1,2\n",
    "N=32\n",
    "\n",
    "Av=firdOrderInt(f,a,b,N)\n",
    "\n",
    "def TPR(Av):\n",
    "    l=fabs((12-Av)/12)\n",
    "    return l*100\n",
    "\n",
    "print(Av)\n",
    "print(TPR(Av))\n"
   ]
  },
  {
   "cell_type": "code",
   "execution_count": null,
   "id": "9d91dd98",
   "metadata": {},
   "outputs": [],
   "source": []
  }
 ],
 "metadata": {
  "kernelspec": {
   "display_name": "Python 3 (ipykernel)",
   "language": "python",
   "name": "python3"
  },
  "language_info": {
   "codemirror_mode": {
    "name": "ipython",
    "version": 3
   },
   "file_extension": ".py",
   "mimetype": "text/x-python",
   "name": "python",
   "nbconvert_exporter": "python",
   "pygments_lexer": "ipython3",
   "version": "3.9.7"
  }
 },
 "nbformat": 4,
 "nbformat_minor": 5
}
